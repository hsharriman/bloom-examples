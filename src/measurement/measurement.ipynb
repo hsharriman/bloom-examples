{
 "cells": [
  {
   "cell_type": "code",
   "execution_count": 31,
   "metadata": {},
   "outputs": [
    {
     "name": "stdout",
     "output_type": "stream",
     "text": [
      "OT Mean           333.200000\n",
      "OT Max            386.000000\n",
      "OT >33ms Count      5.000000\n",
      "ST Mean            41.706284\n",
      "ST Max            213.000000\n",
      "ST >33ms Count     53.000000\n",
      "dtype: float64\n",
      "333.20000000000005 & 386.0 & 5.0 & 41.70628431372549 & 213.0 & 53.0\n"
     ]
    }
   ],
   "source": [
    "import pandas as pd\n",
    "import os\n",
    "import numpy as np\n",
    "\n",
    "directory_path = \"data/repair\"\n",
    "\n",
    "dfs = []\n",
    "for filename in os.listdir(directory_path):\n",
    "    file_path = os.path.join(directory_path, filename)\n",
    "    if os.path.isfile(file_path):\n",
    "        df = pd.read_csv(file_path)\n",
    "        df = df.fillna(-1)\n",
    "        df = df.replace(-1, None)\n",
    "        dfs.append(df)\n",
    "\n",
    "summary = pd.Series(np.zeros(shape=(6,)), index=['OT Mean', 'OT Max', 'OT >33ms Count', 'ST Mean', 'ST Max', 'ST >33ms Count'])\n",
    "for df in dfs:\n",
    "    opt_time = df.dropna(subset=['opt_time'])['opt_time'].iloc[-1]\n",
    "    step_times = df.dropna(subset=['step_time'])['step_time']\n",
    "    \n",
    "    summary.at['OT Mean'] += opt_time / len(dfs)\n",
    "    summary.at['OT Max'] = max(summary.at['OT Max'], opt_time)\n",
    "    summary.at['OT >33ms Count'] += 1 if opt_time > 33 else 0\n",
    "\n",
    "    summary.at['ST Mean'] += step_times.mean() / len(dfs)\n",
    "    summary.at['ST Max'] = max(summary.at['ST Max'], step_times.max())\n",
    "    summary.at['ST >33ms Count'] += (step_times > 33).sum()\n",
    "\n",
    "print(summary)\n",
    "print(\" & \".join(map(str, summary.to_numpy())))\n"
   ]
  },
  {
   "cell_type": "code",
   "execution_count": null,
   "metadata": {},
   "outputs": [
    {
     "name": "stdout",
     "output_type": "stream",
     "text": [
      "1.6525607754571006 & 0.9967237739004986 & 0.7065182281133011 & 0.3768732721617104\n"
     ]
    }
   ],
   "source": [
    "import pandas as pd\n",
    "import os\n",
    "import numpy as np\n",
    "\n",
    "directory_path = \"continuity/discs-50\"\n",
    "\n",
    "dfs = []\n",
    "for i in [0, 10, 100, 1000]:\n",
    "        df = pd.read_csv(directory_path + f\"/data{i}.csv\")\n",
    "        df = df.fillna(-1)\n",
    "        df = df.replace(-1, None)\n",
    "        dfs.append(df)\n",
    "\n",
    "means = []\n",
    "for df in dfs:\n",
    "    diff_norms = df.dropna(subset=['diff_norm'])['diff_norm']\n",
    "    means.append(diff_norms.mean())\n",
    "\n",
    "print(\" & \".join(map(str, means)))\n"
   ]
  },
  {
   "cell_type": "code",
   "execution_count": null,
   "metadata": {},
   "outputs": [],
   "source": []
  }
 ],
 "metadata": {
  "kernelspec": {
   "display_name": "Python 3",
   "language": "python",
   "name": "python3"
  },
  "language_info": {
   "codemirror_mode": {
    "name": "ipython",
    "version": 3
   },
   "file_extension": ".py",
   "mimetype": "text/x-python",
   "name": "python",
   "nbconvert_exporter": "python",
   "pygments_lexer": "ipython3",
   "version": "3.11.10"
  }
 },
 "nbformat": 4,
 "nbformat_minor": 2
}
